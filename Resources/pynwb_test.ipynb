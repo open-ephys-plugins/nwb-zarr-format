{
 "cells": [
  {
   "cell_type": "code",
   "execution_count": 1,
   "id": "92c715f0",
   "metadata": {},
   "outputs": [],
   "source": [
    "from datetime import datetime\n",
    "from dateutil.tz import tzlocal\n",
    "from pynwb import NWBFile\n",
    "import numpy as np\n",
    "\n",
    "start_time = datetime(2021, 4, 3, 11, tzinfo=tzlocal())\n",
    "\n",
    "nwbfile = NWBFile(session_description = 'Example Neuropixels data saved by Open Ephys GUI', \n",
    "                  identifier = '98217279', \n",
    "                  session_start_time = start_time,\n",
    "                  file_create_date = datetime.now(tzlocal()),\n",
    "                  timestamps_reference_time = datetime.now(tzlocal()),\n",
    "                  experimenter='joshs',\n",
    "                  institution='Allen Institute',\n",
    "                  experiment_description='This is just a test',\n",
    "                  session_id='0x0218AF')"
   ]
  },
  {
   "cell_type": "code",
   "execution_count": 2,
   "id": "9820b8f0",
   "metadata": {},
   "outputs": [],
   "source": [
    "names = ['ProbeA', 'ProbeB']\n",
    "locations = ['VISp', 'VISal']\n",
    "\n",
    "electrode_idx = 0\n",
    "\n",
    "for i in range(len(names)):\n",
    "\n",
    "    probe = nwbfile.create_device(name=names[i],\n",
    "                                  description='Neuropixels 1.0',\n",
    "                                  manufacturer='imec')\n",
    "\n",
    "    electrode_group = nwbfile.create_electrode_group(names[i] + '-AP',\n",
    "                                                     description='Neuropixels 1.0 Shank',\n",
    "                                                     location=locations[i],\n",
    "                                                     device=probe)\n",
    "\n",
    "\n",
    "    for electrode in range(384):\n",
    "\n",
    "        x = electrode % 2\n",
    "        y = electrode // 2\n",
    "\n",
    "        nwbfile.add_electrode(id=electrode_idx,\n",
    "                              x=float(x), y=float(y), z=-1.0,\n",
    "                              imp = -1.0,\n",
    "                              location= 'unknown',\n",
    "                              filtering='High pass at 300 Hz',\n",
    "                              group=electrode_group)\n",
    "\n",
    "        electrode_idx += 1;\n",
    "\n",
    "    electrode_group = nwbfile.create_electrode_group(names[i] + '-LFP',\n",
    "                                                     description='Neuropixels 1.0 Shank',\n",
    "                                                     location=locations[i],\n",
    "                                                     device=probe)\n",
    "\n",
    "    for electrode in range(384):\n",
    "\n",
    "        x = electrode % 2\n",
    "        y = electrode // 2\n",
    "\n",
    "        nwbfile.add_electrode(id=electrode_idx,\n",
    "                              x=float(x), y=float(y), z=-1.0,\n",
    "                              imp = -1.0,\n",
    "                              location= 'unknown',\n",
    "                              filtering='Low pass at 1000 Hz',\n",
    "                              group=electrode_group)\n",
    "\n",
    "        electrode_idx += 1;"
   ]
  },
  {
   "cell_type": "code",
   "execution_count": 3,
   "id": "d3ef9a7d",
   "metadata": {},
   "outputs": [],
   "source": [
    "from pynwb.ecephys import ElectricalSeries\n",
    "\n",
    "probeA_AP_region = nwbfile.create_electrode_table_region(tuple(np.arange(0,384)),\n",
    "                                                              description='ProbeA-AP')\n",
    "\n",
    "probeA_LFP_region = nwbfile.create_electrode_table_region(tuple(np.arange(384,768)),\n",
    "                                                              description='ProbeA-LFP')\n",
    "\n",
    "probeB_AP_region = nwbfile.create_electrode_table_region(tuple(np.arange(768,1152)),\n",
    "                                                              description='ProbeB-AP')\n",
    "\n",
    "probeB_LFP_region = nwbfile.create_electrode_table_region(tuple(np.arange(1152,1536)),\n",
    "                                                              description='ProbeB-LFP')\n",
    "\n",
    "num_samples = 1200\n",
    "AP_sample_rate = 30000\n",
    "LFP_sample_rate = 2500\n",
    "\n",
    "nwbfile.add_acquisition(ElectricalSeries('Neuropix-PXI-100.ProbeA-AP',\n",
    "                            data = np.zeros((num_samples,384)),\n",
    "                            electrodes = probeA_AP_region,\n",
    "                            timestamps=np.linspace(0,num_samples / AP_sample_rate, num_samples),\n",
    "                            resolution=1/AP_sample_rate,\n",
    "                            description=\"Probe A AP data\"))\n",
    "\n",
    "nwbfile.add_acquisition(ElectricalSeries('Neuropix-PXI-100.ProbeA-LFP',\n",
    "                            data = np.zeros((num_samples // 12,384)),\n",
    "                            electrodes = probeA_LFP_region,\n",
    "                            timestamps=np.linspace(0,num_samples / LFP_sample_rate, num_samples),\n",
    "                            resolution=1/LFP_sample_rate,\n",
    "                            description=\"Probe A LFP data\"))\n",
    "\n",
    "nwbfile.add_acquisition(ElectricalSeries('Neuropix-PXI-100.ProbeB-AP',\n",
    "                            data = np.zeros((num_samples,384)),\n",
    "                            electrodes = probeB_AP_region,\n",
    "                            timestamps=np.linspace(0,num_samples / AP_sample_rate, num_samples),\n",
    "                            resolution=1/AP_sample_rate,\n",
    "                            description=\"Probe A AP data\"))\n",
    "\n",
    "nwbfile.add_acquisition(ElectricalSeries('Neuropix-PXI-100.ProbeB-LFP',\n",
    "                            data = np.zeros((num_samples // 12,384)),\n",
    "                            electrodes = probeB_LFP_region,\n",
    "                            timestamps=np.linspace(0,num_samples / LFP_sample_rate, num_samples),\n",
    "                            resolution=1/LFP_sample_rate,\n",
    "                            description=\"Probe B LFP data\"))"
   ]
  },
  {
   "cell_type": "code",
   "execution_count": 4,
   "id": "cfe34dec",
   "metadata": {},
   "outputs": [],
   "source": [
    "from pynwb.ecephys import EventWaveform, SpikeEventSeries\n",
    "\n",
    "event_waveform = EventWaveform(name='SpikeDetector-101.ProbeA-AP.spikes')\n",
    "\n",
    "electrode_table_region = nwbfile.create_electrode_table_region([0], 'Single electrode')\n",
    "\n",
    "num_spikes = 100\n",
    "\n",
    "spike_data = np.zeros((num_spikes, 1, 60))\n",
    "spike_timestamps = np.random.rand(num_spikes) * 1/30\n",
    "\n",
    "spike_event_series = SpikeEventSeries(name='SingleElectrode1',\n",
    "                            data = spike_data,\n",
    "                            timestamps =spike_timestamps,\n",
    "                            electrodes =electrode_table_region,\n",
    "                            conversion=0.195,\n",
    "                            description=\"Spike event series for a single electrode\",\n",
    "                            control=np.zeros((num_spikes,)),\n",
    "                            control_description='unit_id')\n",
    "\n",
    "event_waveform.add_spike_event_series(spike_event_series)\n",
    "\n",
    "electrode_table_region = nwbfile.create_electrode_table_region([1], 'Single electrode')\n",
    "\n",
    "spike_event_series = SpikeEventSeries(name='SingleElectrode2',\n",
    "                            data = spike_data,\n",
    "                            timestamps =spike_timestamps,\n",
    "                            electrodes =electrode_table_region,\n",
    "                            conversion=0.195,\n",
    "                            description=\"Spike event series for a single electrode\",\n",
    "                            control=np.zeros((num_spikes,)),\n",
    "                            control_description='unit_id')\n",
    "\n",
    "event_waveform.add_spike_event_series(spike_event_series)\n",
    "\n",
    "nwbfile.add_acquisition(event_waveform)"
   ]
  },
  {
   "cell_type": "code",
   "execution_count": 5,
   "id": "e3404d8a",
   "metadata": {},
   "outputs": [],
   "source": [
    "from pynwb.misc import IntervalSeries, AnnotationSeries\n",
    "\n",
    "data = [1, -1, 1, -1]\n",
    "timestamps = np.linspace(0,1/30,4)\n",
    "\n",
    "interval_series = IntervalSeries(name='Neuropix-PXI-100.ProbeA-AP.TTL',\n",
    "                            data = data,\n",
    "                            timestamps =timestamps,\n",
    "                            comments=\"This is data for a TTL channel\",\n",
    "                            description=\"TTL events for Probe A AP\")\n",
    "\n",
    "nwbfile.add_acquisition(interval_series)\n",
    "\n",
    "interval_series = IntervalSeries(name='Neuropix-PXI-100.ProbeB-AP.TTL',\n",
    "                            data = data,\n",
    "                            timestamps =timestamps,\n",
    "                            comments=\"This is data for a TTL channel\",\n",
    "                            description=\"TTL events for Probe B AP\")\n",
    "\n",
    "nwbfile.add_acquisition(interval_series)\n",
    "\n",
    "annotation_series = AnnotationSeries(name='messages',\n",
    "                            data = ['Example message', 'Another message', 'Yet another message'],\n",
    "                            timestamps =[0.001, 0.002, 0.003],\n",
    "                            description=\"Open Ephys GUI global messages\")\n",
    "\n",
    "nwbfile.add_acquisition(annotation_series)"
   ]
  },
  {
   "cell_type": "code",
   "execution_count": 6,
   "id": "4ba8adff",
   "metadata": {},
   "outputs": [
    {
     "name": "stderr",
     "output_type": "stream",
     "text": [
      "/Users/franman/miniconda3/envs/pynwb/lib/python3.8/site-packages/hdmf/build/objectmapper.py:256: DtypeConversionWarning: Spec 'SpikeEventSeries/control': Value with data type float64 is being converted to data type uint64 (min specification: uint8).\n",
      "  warnings.warn(full_warning_msg, DtypeConversionWarning)\n"
     ]
    }
   ],
   "source": [
    "from pynwb import NWBHDF5IO\n",
    "\n",
    "io = NWBHDF5IO('oe_neuropixels_example.nwb', mode='w')\n",
    "io.write(nwbfile)\n",
    "io.close()"
   ]
  },
  {
   "cell_type": "code",
   "execution_count": 7,
   "id": "fd1e6369",
   "metadata": {},
   "outputs": [],
   "source": [
    "io = NWBHDF5IO('oe_neuropixels_example.nwb', 'r')\n",
    "nwbfile_in = io.read()"
   ]
  },
  {
   "cell_type": "code",
   "execution_count": 8,
   "id": "aa96956d",
   "metadata": {},
   "outputs": [
    {
     "name": "stdout",
     "output_type": "stream",
     "text": [
      "Neuropix-PXI-100.ProbeA-LFP pynwb.ecephys.ElectricalSeries at 0x4726449056\n",
      "Fields:\n",
      "  comments: no comments\n",
      "  conversion: 1.0\n",
      "  data: <HDF5 dataset \"data\": shape (100, 384), type \"<f8\">\n",
      "  description: Probe A LFP data\n",
      "  electrodes: electrodes <class 'hdmf.common.table.DynamicTableRegion'>\n",
      "  interval: 1\n",
      "  resolution: 0.0004\n",
      "  timestamps: <HDF5 dataset \"timestamps\": shape (1200,), type \"<f8\">\n",
      "  timestamps_unit: seconds\n",
      "  unit: volts\n",
      "\n"
     ]
    }
   ],
   "source": [
    "test_timeseries_in = nwbfile_in.acquisition['Neuropix-PXI-100.ProbeA-LFP']\n",
    "print(test_timeseries_in)"
   ]
  },
  {
   "cell_type": "code",
   "execution_count": 9,
   "id": "45ed3c16",
   "metadata": {},
   "outputs": [
    {
     "name": "stdout",
     "output_type": "stream",
     "text": [
      "[[0. 0. 0. ... 0. 0. 0.]\n",
      " [0. 0. 0. ... 0. 0. 0.]\n",
      " [0. 0. 0. ... 0. 0. 0.]\n",
      " ...\n",
      " [0. 0. 0. ... 0. 0. 0.]\n",
      " [0. 0. 0. ... 0. 0. 0.]\n",
      " [0. 0. 0. ... 0. 0. 0.]]\n"
     ]
    }
   ],
   "source": [
    "print(test_timeseries_in.data[:])\n",
    "io.close()"
   ]
  },
  {
   "cell_type": "code",
   "execution_count": 10,
   "id": "3817345a",
   "metadata": {},
   "outputs": [],
   "source": [
    "import h5py as h5"
   ]
  },
  {
   "cell_type": "code",
   "execution_count": 11,
   "id": "8079dd41",
   "metadata": {},
   "outputs": [],
   "source": [
    "f = h5.File('oe_neuropixels_example.nwb', 'r')"
   ]
  },
  {
   "cell_type": "code",
   "execution_count": 12,
   "id": "1ef90bef",
   "metadata": {},
   "outputs": [
    {
     "data": {
      "text/plain": [
       "<KeysViewHDF5 ['acquisition', 'analysis', 'file_create_date', 'general', 'identifier', 'processing', 'session_description', 'session_start_time', 'specifications', 'stimulus', 'timestamps_reference_time']>"
      ]
     },
     "execution_count": 12,
     "metadata": {},
     "output_type": "execute_result"
    }
   ],
   "source": [
    "f.keys()"
   ]
  },
  {
   "cell_type": "code",
   "execution_count": 13,
   "id": "2cb20a3e",
   "metadata": {},
   "outputs": [],
   "source": [
    "GROUP_TYPE = h5._hl.group.Group\n",
    "DATASET_TYPE = h5._hl.dataset.Dataset"
   ]
  },
  {
   "cell_type": "code",
   "execution_count": 14,
   "id": "07e76509",
   "metadata": {},
   "outputs": [],
   "source": [
    "def printHDF5(obj, key, level):\n",
    "    \n",
    "    if type(obj[key]) == GROUP_TYPE:\n",
    "        print(''.join(['  ']*level) + key)\n",
    "        for k in obj[key].keys():\n",
    "            printHDF5(obj[key], k, level+1)\n",
    "    elif type(obj[key]) == DATASET_TYPE:\n",
    "        print(''.join(['  ']*(level)) + key + ': ' + str(obj[key].shape))"
   ]
  },
  {
   "cell_type": "code",
   "execution_count": 15,
   "id": "0047a66a",
   "metadata": {},
   "outputs": [
    {
     "name": "stdout",
     "output_type": "stream",
     "text": [
      "acquisition\n",
      "  Neuropix-PXI-100.ProbeA-AP\n",
      "    data: (1200, 384)\n",
      "    electrodes: (384,)\n",
      "    timestamps: (1200,)\n",
      "  Neuropix-PXI-100.ProbeA-AP.TTL\n",
      "    data: (4,)\n",
      "    timestamps: (4,)\n",
      "  Neuropix-PXI-100.ProbeA-LFP\n",
      "    data: (100, 384)\n",
      "    electrodes: (384,)\n",
      "    timestamps: (1200,)\n",
      "  Neuropix-PXI-100.ProbeB-AP\n",
      "    data: (1200, 384)\n",
      "    electrodes: (384,)\n",
      "    timestamps: (1200,)\n",
      "  Neuropix-PXI-100.ProbeB-AP.TTL\n",
      "    data: (4,)\n",
      "    timestamps: (4,)\n",
      "  Neuropix-PXI-100.ProbeB-LFP\n",
      "    data: (100, 384)\n",
      "    electrodes: (384,)\n",
      "    timestamps: (1200,)\n",
      "  SpikeDetector-101.ProbeA-AP.spikes\n",
      "    SingleElectrode1\n",
      "      control: (100,)\n",
      "      control_description: (7,)\n",
      "      data: (100, 1, 60)\n",
      "      electrodes: (1,)\n",
      "      timestamps: (100,)\n",
      "    SingleElectrode2\n",
      "      control: (100,)\n",
      "      control_description: (7,)\n",
      "      data: (100, 1, 60)\n",
      "      electrodes: (1,)\n",
      "      timestamps: (100,)\n",
      "  messages\n",
      "    data: (3,)\n",
      "    timestamps: (3,)\n",
      "analysis\n",
      "file_create_date: (1,)\n",
      "general\n",
      "  devices\n",
      "    ProbeA\n",
      "    ProbeB\n",
      "  experiment_description: ()\n",
      "  experimenter: (1,)\n",
      "  extracellular_ephys\n",
      "    ProbeA-AP\n",
      "      device\n",
      "    ProbeA-LFP\n",
      "      device\n",
      "    ProbeB-AP\n",
      "      device\n",
      "    ProbeB-LFP\n",
      "      device\n",
      "    electrodes\n",
      "      filtering: (1536,)\n",
      "      group: (1536,)\n",
      "      group_name: (1536,)\n",
      "      id: (1536,)\n",
      "      imp: (1536,)\n",
      "      location: (1536,)\n",
      "      x: (1536,)\n",
      "      y: (1536,)\n",
      "      z: (1536,)\n",
      "  institution: ()\n",
      "  session_id: ()\n",
      "identifier: ()\n",
      "processing\n",
      "session_description: ()\n",
      "session_start_time: ()\n",
      "specifications\n",
      "  core\n",
      "    2.4.0\n",
      "      namespace: ()\n",
      "      nwb.base: ()\n",
      "      nwb.behavior: ()\n",
      "      nwb.device: ()\n",
      "      nwb.ecephys: ()\n",
      "      nwb.epoch: ()\n",
      "      nwb.file: ()\n",
      "      nwb.icephys: ()\n",
      "      nwb.image: ()\n",
      "      nwb.misc: ()\n",
      "      nwb.ogen: ()\n",
      "      nwb.ophys: ()\n",
      "      nwb.retinotopy: ()\n",
      "  hdmf-common\n",
      "    1.5.0\n",
      "      base: ()\n",
      "      namespace: ()\n",
      "      sparse: ()\n",
      "      table: ()\n",
      "  hdmf-experimental\n",
      "    0.1.0\n",
      "      experimental: ()\n",
      "      namespace: ()\n",
      "      resources: ()\n",
      "stimulus\n",
      "  presentation\n",
      "  templates\n",
      "timestamps_reference_time: ()\n"
     ]
    }
   ],
   "source": [
    "for key in f.keys():\n",
    "    printHDF5(f, key, 0)"
   ]
  },
  {
   "cell_type": "code",
   "execution_count": 16,
   "id": "35441d21",
   "metadata": {},
   "outputs": [
    {
     "data": {
      "text/plain": [
       "<HDF5 dataset \"id\": shape (1536,), type \"<i8\">"
      ]
     },
     "execution_count": 16,
     "metadata": {},
     "output_type": "execute_result"
    }
   ],
   "source": [
    "f['general']['extracellular_ephys']['electrodes']['id']"
   ]
  },
  {
   "cell_type": "code",
   "execution_count": 17,
   "id": "b840901a",
   "metadata": {},
   "outputs": [],
   "source": [
    "f.close()"
   ]
  }
 ],
 "metadata": {
  "kernelspec": {
   "display_name": "Python 3",
   "language": "python",
   "name": "python3"
  },
  "language_info": {
   "codemirror_mode": {
    "name": "ipython",
    "version": 3
   },
   "file_extension": ".py",
   "mimetype": "text/x-python",
   "name": "python",
   "nbconvert_exporter": "python",
   "pygments_lexer": "ipython3",
   "version": "3.8.8"
  }
 },
 "nbformat": 4,
 "nbformat_minor": 5
}
